{
  "nbformat": 4,
  "nbformat_minor": 0,
  "metadata": {
    "colab": {
      "name": "Practical Lab Exam 1.ipynb",
      "provenance": [],
      "authorship_tag": "ABX9TyPFNdxrxfMEpkAwlWJjivkj",
      "include_colab_link": true
    },
    "kernelspec": {
      "name": "python3",
      "display_name": "Python 3"
    },
    "language_info": {
      "name": "python"
    }
  },
  "cells": [
    {
      "cell_type": "markdown",
      "metadata": {
        "id": "view-in-github",
        "colab_type": "text"
      },
      "source": [
        "<a href=\"https://colab.research.google.com/github/denzilseason/Linear-Algebra-58019/blob/main/Practical_Lab_Exam_1.ipynb\" target=\"_parent\"><img src=\"https://colab.research.google.com/assets/colab-badge.svg\" alt=\"Open In Colab\"/></a>"
      ]
    },
    {
      "cell_type": "markdown",
      "metadata": {
        "id": "0anZiQFDpVT-"
      },
      "source": [
        "#Practical Lab Exam 1"
      ]
    },
    {
      "cell_type": "markdown",
      "metadata": {
        "id": "HOiEK1QHuKlu"
      },
      "source": [
        "##Problem 1"
      ]
    },
    {
      "cell_type": "markdown",
      "metadata": {
        "id": "lTKov2EPqlJa"
      },
      "source": [
        "###Problem 1 A."
      ]
    },
    {
      "cell_type": "code",
      "metadata": {
        "colab": {
          "base_uri": "https://localhost:8080/"
        },
        "id": "6E21T8iPol3a",
        "outputId": "f92f292d-c6a0-4f7f-bb78-ca851414b192"
      },
      "source": [
        "import numpy as np\n",
        "A = np.array([[1,2,3],[4,5,6]])\n",
        "B = np.array([[1,2],[3,4],[5,6]])\n",
        "\n",
        "product = np.dot(A,B)\n",
        "print(product)"
      ],
      "execution_count": 4,
      "outputs": [
        {
          "output_type": "stream",
          "name": "stdout",
          "text": [
            "[[22 28]\n",
            " [49 64]]\n"
          ]
        }
      ]
    },
    {
      "cell_type": "markdown",
      "metadata": {
        "id": "lqkhWhEttA2T"
      },
      "source": [
        "###Problem 1 B."
      ]
    },
    {
      "cell_type": "code",
      "metadata": {
        "colab": {
          "base_uri": "https://localhost:8080/"
        },
        "id": "AHx_5yTmtDSw",
        "outputId": "e2c525a1-2593-4b88-e4a1-f3ea1f3a6fd8"
      },
      "source": [
        "import numpy as np\n",
        "D = np.array ([[1,2],[3,4]])\n",
        "print (D+D)"
      ],
      "execution_count": 5,
      "outputs": [
        {
          "output_type": "stream",
          "name": "stdout",
          "text": [
            "[[2 4]\n",
            " [6 8]]\n"
          ]
        }
      ]
    },
    {
      "cell_type": "markdown",
      "metadata": {
        "id": "P9ceNSwatccr"
      },
      "source": [
        "###Problem 1 C."
      ]
    },
    {
      "cell_type": "code",
      "metadata": {
        "colab": {
          "base_uri": "https://localhost:8080/"
        },
        "id": "OZDiTjaete61",
        "outputId": "9c1f581f-4528-4351-a0f4-2a0e326856d5"
      },
      "source": [
        "import numpy as np\n",
        "C = np.array([[1,2,3],[4,5,6],[7,8,9]])\n",
        "S = 2*C\n",
        "print(S)"
      ],
      "execution_count": 6,
      "outputs": [
        {
          "output_type": "stream",
          "name": "stdout",
          "text": [
            "[[ 2  4  6]\n",
            " [ 8 10 12]\n",
            " [14 16 18]]\n"
          ]
        }
      ]
    },
    {
      "cell_type": "markdown",
      "metadata": {
        "id": "L4DAGFw1uNwS"
      },
      "source": [
        "##Problem 2"
      ]
    },
    {
      "cell_type": "code",
      "metadata": {
        "colab": {
          "base_uri": "https://localhost:8080/"
        },
        "id": "-8IgCZqJuQVz",
        "outputId": "e4cfd9c9-6ce6-4fac-bc58-2b0eb90b6989"
      },
      "source": [
        "import numpy as np\n",
        "Θ = np.array([5,3,-1])\n",
        "print(Θ)\n",
        "print(Θ.shape)\n",
        "print(Θ.size)\n",
        "print(Θ.ndim)"
      ],
      "execution_count": 18,
      "outputs": [
        {
          "output_type": "stream",
          "name": "stdout",
          "text": [
            "[ 5  3 -1]\n",
            "(3,)\n",
            "3\n",
            "1\n"
          ]
        }
      ]
    },
    {
      "cell_type": "code",
      "metadata": {
        "id": "lvr-19U6zKKE"
      },
      "source": [
        ""
      ],
      "execution_count": null,
      "outputs": []
    }
  ]
}