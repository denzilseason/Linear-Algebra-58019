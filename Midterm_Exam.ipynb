{
  "nbformat": 4,
  "nbformat_minor": 0,
  "metadata": {
    "colab": {
      "name": "Midterm Exam",
      "provenance": [],
      "authorship_tag": "ABX9TyOohQmj+gK7YGTmENNIxVh4",
      "include_colab_link": true
    },
    "kernelspec": {
      "name": "python3",
      "display_name": "Python 3"
    },
    "language_info": {
      "name": "python"
    }
  },
  "cells": [
    {
      "cell_type": "markdown",
      "metadata": {
        "id": "view-in-github",
        "colab_type": "text"
      },
      "source": [
        "<a href=\"https://colab.research.google.com/github/denzilseason/Linear-Algebra-58019/blob/main/Midterm_Exam.ipynb\" target=\"_parent\"><img src=\"https://colab.research.google.com/assets/colab-badge.svg\" alt=\"Open In Colab\"/></a>"
      ]
    },
    {
      "cell_type": "markdown",
      "metadata": {
        "id": "_J9iSt_I42a1"
      },
      "source": [
        "#Midterm Exam"
      ]
    },
    {
      "cell_type": "markdown",
      "metadata": {
        "id": "081IBKSW3tTZ"
      },
      "source": [
        "##Question 1. Create a Python code that displays a square matrix whose length is 5 (10 points)"
      ]
    },
    {
      "cell_type": "code",
      "metadata": {
        "colab": {
          "base_uri": "https://localhost:8080/"
        },
        "id": "QpL36wc03lyL",
        "outputId": "04046461-1f1e-47da-edb7-2c1a0487712d"
      },
      "source": [
        "import numpy as np\n",
        "A=np.zeros((5,5)) #To create a square matrix with length of 5\n",
        "print(A)"
      ],
      "execution_count": 10,
      "outputs": [
        {
          "output_type": "stream",
          "name": "stdout",
          "text": [
            "[[0. 0. 0. 0. 0.]\n",
            " [0. 0. 0. 0. 0.]\n",
            " [0. 0. 0. 0. 0.]\n",
            " [0. 0. 0. 0. 0.]\n",
            " [0. 0. 0. 0. 0.]]\n"
          ]
        }
      ]
    },
    {
      "cell_type": "markdown",
      "metadata": {
        "id": "13_HYBZR4pVu"
      },
      "source": [
        "##Question 2. Create a Python code that displays a square matrix whose elements below the principal diagonal are zero (10 points)"
      ]
    },
    {
      "cell_type": "code",
      "metadata": {
        "colab": {
          "base_uri": "https://localhost:8080/"
        },
        "id": "sLz9bhZf467O",
        "outputId": "5c306537-a3c2-4a99-c0eb-c03446e5cd5f"
      },
      "source": [
        "import numpy as np\n",
        "A = np.identity(5)   #To create square matrix\n",
        "print(A)             #To display a square matrix with zero elements below the principal diagonal"
      ],
      "execution_count": 11,
      "outputs": [
        {
          "output_type": "stream",
          "name": "stdout",
          "text": [
            "[[1. 0. 0. 0. 0.]\n",
            " [0. 1. 0. 0. 0.]\n",
            " [0. 0. 1. 0. 0.]\n",
            " [0. 0. 0. 1. 0.]\n",
            " [0. 0. 0. 0. 1.]]\n"
          ]
        }
      ]
    },
    {
      "cell_type": "markdown",
      "metadata": {
        "id": "jNJOD23v5nWO"
      },
      "source": [
        "##Question 3. Create a Python code that displays a square matrix which is symmetrical (10 points)"
      ]
    },
    {
      "cell_type": "code",
      "metadata": {
        "colab": {
          "base_uri": "https://localhost:8080/"
        },
        "id": "rm5oVylQ5tdU",
        "outputId": "e68c6522-7eee-49b3-84fd-5528176aec12"
      },
      "source": [
        "import numpy as np\n",
        "A = np.array([[2,1,4],[1,5,7],[4,7,6]]) #To create symmetrical square matrix\n",
        "print(A)"
      ],
      "execution_count": 13,
      "outputs": [
        {
          "output_type": "stream",
          "name": "stdout",
          "text": [
            "[[2 1 4]\n",
            " [1 5 7]\n",
            " [4 7 6]]\n"
          ]
        }
      ]
    },
    {
      "cell_type": "markdown",
      "metadata": {
        "id": "BwuJGgDc8841"
      },
      "source": [
        "##Question 4. What is the inverse of matrix C? Show your solution by python coding. (20 points)"
      ]
    },
    {
      "cell_type": "code",
      "metadata": {
        "colab": {
          "base_uri": "https://localhost:8080/"
        },
        "id": "TfK3GemV8_Yc",
        "outputId": "c52aae77-3c49-4aac-8451-46769a9f0ff8"
      },
      "source": [
        "import numpy as np\n",
        "C=np.array([[1,2,3],[2,3,3],[3,4,-2]]) #To declare the values of matrix\n",
        "print(C)\n",
        "invC=(np.linalg.inv(C))\n",
        "print(invC)                            #To show the inverse of Matrix C"
      ],
      "execution_count": 5,
      "outputs": [
        {
          "output_type": "stream",
          "name": "stdout",
          "text": [
            "[[ 1  2  3]\n",
            " [ 2  3  3]\n",
            " [ 3  4 -2]]\n",
            "[[-3.6  3.2 -0.6]\n",
            " [ 2.6 -2.2  0.6]\n",
            " [-0.2  0.4 -0.2]]\n"
          ]
        }
      ]
    },
    {
      "cell_type": "markdown",
      "metadata": {
        "id": "PqZsHXzY9nVI"
      },
      "source": [
        "##Question 5. What is the determinant of the given matrix in Question 4? Show your solution by python coding. (20 points)"
      ]
    },
    {
      "cell_type": "code",
      "metadata": {
        "colab": {
          "base_uri": "https://localhost:8080/"
        },
        "id": "CxduOKE39rdF",
        "outputId": "343df6e1-673e-4c09-8a27-0dba8fed57a4"
      },
      "source": [
        "import numpy as np\n",
        "A =np.array([[1,2,3],[2,3,3],[3,4,-2]]) #Declare the values of matrix.\n",
        "print(A)\n",
        "print(np.linalg.det(A)) #To display the determinant of A\n",
        "print(round(np.linalg.det(A))) #To display the rounded determinant of A"
      ],
      "execution_count": 15,
      "outputs": [
        {
          "output_type": "stream",
          "name": "stdout",
          "text": [
            "[[ 1  2  3]\n",
            " [ 2  3  3]\n",
            " [ 3  4 -2]]\n",
            "5.000000000000001\n",
            "5\n"
          ]
        }
      ]
    },
    {
      "cell_type": "markdown",
      "metadata": {
        "id": "5O_GvOyR-aNt"
      },
      "source": [
        "##Question 6. Find the roots of the linear equations by showing its python codes (30 points)\n",
        "\n",
        "5X1 + 4X2 + X3 = 3.4\n",
        "\n",
        "10X1 + 9X2 + 4X3 = 8.8\n",
        "\n",
        "10X1 + 13X2 + 15X3 = 19.2"
      ]
    },
    {
      "cell_type": "code",
      "metadata": {
        "colab": {
          "base_uri": "https://localhost:8080/"
        },
        "id": "E92tQepY-ja9",
        "outputId": "689a2ed0-5630-4a93-c51d-b709f863e43f"
      },
      "source": [
        "import numpy as np\n",
        "A = np.array([[5,4,1],[10,9,4],[10,13,15]])\n",
        "B = np.array([[3.4],[8.8],[19.2]])\n",
        "roots = np.linalg.inv(A).dot(B)\n",
        "print(roots)\n"
      ],
      "execution_count": 14,
      "outputs": [
        {
          "output_type": "stream",
          "name": "stdout",
          "text": [
            "[[0.2]\n",
            " [0.4]\n",
            " [0.8]]\n"
          ]
        }
      ]
    }
  ]
}