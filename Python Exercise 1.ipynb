{
  "nbformat": 4,
  "nbformat_minor": 0,
  "metadata": {
    "colab": {
      "name": "Untitled0.ipynb",
      "provenance": [],
      "authorship_tag": "ABX9TyMgnyAPj1Jnbt452/B/PjvC",
      "include_colab_link": true
    },
    "kernelspec": {
      "name": "python3",
      "display_name": "Python 3"
    },
    "language_info": {
      "name": "python"
    }
  },
  "cells": [
    {
      "cell_type": "markdown",
      "metadata": {
        "id": "view-in-github",
        "colab_type": "text"
      },
      "source": [
        "<a href=\"https://colab.research.google.com/github/denzilseason/Linear-Algebra-58019/blob/main/Python%20Exercise%201.ipynb\" target=\"_parent\"><img src=\"https://colab.research.google.com/assets/colab-badge.svg\" alt=\"Open In Colab\"/></a>"
      ]
    },
    {
      "cell_type": "markdown",
      "metadata": {
        "id": "kmajRFz28Ct6"
      },
      "source": [
        "#Matrix and its Operations"
      ]
    },
    {
      "cell_type": "code",
      "metadata": {
        "colab": {
          "base_uri": "https://localhost:8080/"
        },
        "id": "lXlCeT388GoT",
        "outputId": "aefd5504-56d2-48c6-a484-4897e3685589"
      },
      "source": [
        "#numpy\n",
        "import numpy as np\n",
        "A = np.array ([[-5,4],[0,1]])\n",
        "B = np.array ([[6,2],[-3,3]]) #This is an example of Addition of Matrices\n",
        "print (a+b)"
      ],
      "execution_count": 2,
      "outputs": [
        {
          "output_type": "stream",
          "name": "stdout",
          "text": [
            "[[ 1  6]\n",
            " [-3  4]]\n"
          ]
        }
      ]
    },
    {
      "cell_type": "code",
      "metadata": {
        "colab": {
          "base_uri": "https://localhost:8080/"
        },
        "id": "LH6A7vaQ9BpK",
        "outputId": "f9c2bf98-d76b-4019-fcad-3c64aee5b277"
      },
      "source": [
        "#numpy\n",
        "import numpy as np\n",
        "A = np.array ([[-5,4],[0,1]])\n",
        "B = np.array ([[6,2],[-3,3]]) #This is an example of Addition of Matrices B-A\n",
        "print (b-a)"
      ],
      "execution_count": 4,
      "outputs": [
        {
          "output_type": "stream",
          "name": "stdout",
          "text": [
            "[[11 -2]\n",
            " [-3  2]]\n"
          ]
        }
      ]
    },
    {
      "cell_type": "code",
      "metadata": {
        "colab": {
          "base_uri": "https://localhost:8080/"
        },
        "id": "WgniZdWH84YZ",
        "outputId": "db8dd0da-bac3-4a02-b568-5abe1d892701"
      },
      "source": [
        "#numpy\n",
        "import numpy as np\n",
        "A = np.array ([[-5,4],[0,1]])\n",
        "B = np.array ([[6,2],[-3,3]]) #This is an example of Subraction of Matrices A-B\n",
        "print (a-b)"
      ],
      "execution_count": 3,
      "outputs": [
        {
          "output_type": "stream",
          "name": "stdout",
          "text": [
            "[[-11   2]\n",
            " [  3  -2]]\n"
          ]
        }
      ]
    }
  ]
}