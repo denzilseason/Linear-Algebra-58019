{
  "nbformat": 4,
  "nbformat_minor": 0,
  "metadata": {
    "colab": {
      "name": "Vectors",
      "provenance": [],
      "authorship_tag": "ABX9TyMGKBEvcbanudC+zN64G6V1",
      "include_colab_link": true
    },
    "kernelspec": {
      "name": "python3",
      "display_name": "Python 3"
    },
    "language_info": {
      "name": "python"
    }
  },
  "cells": [
    {
      "cell_type": "markdown",
      "metadata": {
        "id": "view-in-github",
        "colab_type": "text"
      },
      "source": [
        "<a href=\"https://colab.research.google.com/github/denzilseason/Linear-Algebra-58019/blob/main/Vectors.ipynb\" target=\"_parent\"><img src=\"https://colab.research.google.com/assets/colab-badge.svg\" alt=\"Open In Colab\"/></a>"
      ]
    },
    {
      "cell_type": "markdown",
      "metadata": {
        "id": "msQDmxrt0mMI"
      },
      "source": [
        "#Matrix Algebra"
      ]
    },
    {
      "cell_type": "code",
      "metadata": {
        "colab": {
          "base_uri": "https://localhost:8080/"
        },
        "id": "ELfR5-5h0Z55",
        "outputId": "006b056d-c963-4ad5-e6ec-c3454d6023ba"
      },
      "source": [
        "#numpy\n",
        "import numpy as np\n",
        "a = np.array([1,2,3]) #This is an example of1x3 matrix\n",
        "print (a)\n"
      ],
      "execution_count": 1,
      "outputs": [
        {
          "output_type": "stream",
          "name": "stdout",
          "text": [
            "[1 2 3]\n"
          ]
        }
      ]
    },
    {
      "cell_type": "code",
      "metadata": {
        "colab": {
          "base_uri": "https://localhost:8080/"
        },
        "id": "TKgpP9pm1xxO",
        "outputId": "37716b9e-664d-4d27-de28-563c0801e73f"
      },
      "source": [
        "import numpy as np\n",
        "b = np.array ([[1,2,3],[4,5,6]]) #This is an example of 2x3 matrix\n",
        "print (b)"
      ],
      "execution_count": 2,
      "outputs": [
        {
          "output_type": "stream",
          "name": "stdout",
          "text": [
            "[[1 2 3]\n",
            " [4 5 6]]\n"
          ]
        }
      ]
    },
    {
      "cell_type": "code",
      "metadata": {
        "colab": {
          "base_uri": "https://localhost:8080/"
        },
        "id": "zxD8olQ32d4t",
        "outputId": "c5b673ce-c693-4dce-94e4-a7387df77730"
      },
      "source": [
        "import numpy as np\n",
        "c = np.array ([[1,2,3],[4,5,6],[7,8,9]]) #This is an example of 3x3 matrix\n",
        "print (c)\n"
      ],
      "execution_count": 3,
      "outputs": [
        {
          "output_type": "stream",
          "name": "stdout",
          "text": [
            "[[1 2 3]\n",
            " [4 5 6]\n",
            " [7 8 9]]\n"
          ]
        }
      ]
    },
    {
      "cell_type": "code",
      "metadata": {
        "colab": {
          "base_uri": "https://localhost:8080/"
        },
        "id": "T9KTd3Vy21kq",
        "outputId": "17711291-074c-4b08-9536-1707b44feca4"
      },
      "source": [
        "import numpy as np\n",
        "d= np.full ((3,3),7)\n",
        "print (d)\n"
      ],
      "execution_count": 4,
      "outputs": [
        {
          "output_type": "stream",
          "name": "stdout",
          "text": [
            "[[7 7 7]\n",
            " [7 7 7]\n",
            " [7 7 7]]\n"
          ]
        }
      ]
    },
    {
      "cell_type": "code",
      "metadata": {
        "colab": {
          "base_uri": "https://localhost:8080/"
        },
        "id": "IB8wvMKn3Orm",
        "outputId": "74e49ccc-c3eb-4bf1-cd5d-232b1271880d"
      },
      "source": [
        "import numpy as np\n",
        "e = np.diagonal ([[1,2,3],[4,5,6],[7,8,9]])\n",
        "print (e)\n"
      ],
      "execution_count": 5,
      "outputs": [
        {
          "output_type": "stream",
          "name": "stdout",
          "text": [
            "[1 5 9]\n"
          ]
        }
      ]
    },
    {
      "cell_type": "code",
      "metadata": {
        "colab": {
          "base_uri": "https://localhost:8080/"
        },
        "id": "adzPoXU03lP2",
        "outputId": "dac5ea18-63b2-44ef-8623-559249cc5f49"
      },
      "source": [
        "import numpy as np\n",
        "f =np.eye (3)\n",
        "print (f)"
      ],
      "execution_count": 6,
      "outputs": [
        {
          "output_type": "stream",
          "name": "stdout",
          "text": [
            "[[1. 0. 0.]\n",
            " [0. 1. 0.]\n",
            " [0. 0. 1.]]\n"
          ]
        }
      ]
    },
    {
      "cell_type": "code",
      "metadata": {
        "colab": {
          "base_uri": "https://localhost:8080/"
        },
        "id": "W6DsJ9lY4AGP",
        "outputId": "55db8aea-d5f9-4c18-bb57-cf0fb28754e7"
      },
      "source": [
        "import numpy as np\n",
        "g = np.zeros ((2,2))\n",
        "print (g)"
      ],
      "execution_count": 7,
      "outputs": [
        {
          "output_type": "stream",
          "name": "stdout",
          "text": [
            "[[0. 0.]\n",
            " [0. 0.]]\n"
          ]
        }
      ]
    },
    {
      "cell_type": "code",
      "metadata": {
        "colab": {
          "base_uri": "https://localhost:8080/"
        },
        "id": "XaInJJWZ4SHf",
        "outputId": "b029b1f6-232a-4a64-eaee-39606bb5374d"
      },
      "source": [
        "import numpy as np\n",
        "h = np.empty ((0,13))\n",
        "print (h)"
      ],
      "execution_count": 9,
      "outputs": [
        {
          "output_type": "stream",
          "name": "stdout",
          "text": [
            "[]\n"
          ]
        }
      ]
    },
    {
      "cell_type": "code",
      "metadata": {
        "colab": {
          "base_uri": "https://localhost:8080/"
        },
        "id": "xet3w1_143s3",
        "outputId": "1b0f4236-87f0-43c5-841f-8113a8867302"
      },
      "source": [
        "import numpy as np\n",
        "d= np.full ((3,3),7)\n",
        "print (d+d)"
      ],
      "execution_count": 10,
      "outputs": [
        {
          "output_type": "stream",
          "name": "stdout",
          "text": [
            "[[14 14 14]\n",
            " [14 14 14]\n",
            " [14 14 14]]\n"
          ]
        }
      ]
    },
    {
      "cell_type": "code",
      "metadata": {
        "colab": {
          "base_uri": "https://localhost:8080/"
        },
        "id": "-Ziv7qeK49pW",
        "outputId": "480fabe0-afa1-4c37-efca-6a36eeb6cad1"
      },
      "source": [
        "import numpy as np\n",
        "d= np.full ((3,3),7)\n",
        "print (d-d)"
      ],
      "execution_count": 11,
      "outputs": [
        {
          "output_type": "stream",
          "name": "stdout",
          "text": [
            "[[0 0 0]\n",
            " [0 0 0]\n",
            " [0 0 0]]\n"
          ]
        }
      ]
    }
  ]
}