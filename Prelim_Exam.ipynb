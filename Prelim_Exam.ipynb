{
  "nbformat": 4,
  "nbformat_minor": 0,
  "metadata": {
    "colab": {
      "name": "Prelim Exam.ipynb",
      "provenance": [],
      "authorship_tag": "ABX9TyOfdSWi84voAdx3kixMI6h0",
      "include_colab_link": true
    },
    "kernelspec": {
      "name": "python3",
      "display_name": "Python 3"
    },
    "language_info": {
      "name": "python"
    }
  },
  "cells": [
    {
      "cell_type": "markdown",
      "metadata": {
        "id": "view-in-github",
        "colab_type": "text"
      },
      "source": [
        "<a href=\"https://colab.research.google.com/github/denzilseason/Linear-Algebra-58019/blob/main/Prelim_Exam.ipynb\" target=\"_parent\"><img src=\"https://colab.research.google.com/assets/colab-badge.svg\" alt=\"Open In Colab\"/></a>"
      ]
    },
    {
      "cell_type": "markdown",
      "metadata": {
        "id": "uOAJOzbdh5uN"
      },
      "source": [
        "#Prelim Exam"
      ]
    },
    {
      "cell_type": "markdown",
      "metadata": {
        "id": "81kZmjSmh_Ro"
      },
      "source": [
        "##Question 1"
      ]
    },
    {
      "cell_type": "markdown",
      "metadata": {
        "id": "rV_Y4tvOjXu3"
      },
      "source": [
        "###Create a 4 x 4 matrix whose diagonal elements are all one (1's). Name it as matrix \"C\". Show your solutions using Python codes and do not forget to label them on the Text Cell."
      ]
    },
    {
      "cell_type": "code",
      "metadata": {
        "colab": {
          "base_uri": "https://localhost:8080/"
        },
        "id": "wlFUcM_XiFnv",
        "outputId": "6479d340-f87a-444f-e052-54f3dc434972"
      },
      "source": [
        "import numpy as np\n",
        "C = np.eye(4)\n",
        "print(C)\n"
      ],
      "execution_count": 6,
      "outputs": [
        {
          "output_type": "stream",
          "name": "stdout",
          "text": [
            "[[1. 0. 0. 0.]\n",
            " [0. 1. 0. 0.]\n",
            " [0. 0. 1. 0.]\n",
            " [0. 0. 0. 1.]]\n"
          ]
        }
      ]
    },
    {
      "cell_type": "markdown",
      "metadata": {
        "id": "tQ7zQfXQjfUy"
      },
      "source": [
        "##Question 2"
      ]
    },
    {
      "cell_type": "markdown",
      "metadata": {
        "id": "uMa1f6WIjorB"
      },
      "source": [
        "###In relation to Question 1, show a solution that doubles all the values of each element. Show your solutions using Python codes and do not forget to label them on the Text Cell."
      ]
    },
    {
      "cell_type": "code",
      "metadata": {
        "colab": {
          "base_uri": "https://localhost:8080/"
        },
        "id": "ozjDftOqjqK6",
        "outputId": "f897a42a-765f-4ba9-82a7-d50bd9142d08"
      },
      "source": [
        "import numpy as np\n",
        "C = np.eye(4)\n",
        "Doubles = 2*C\n",
        "print(Doubles)"
      ],
      "execution_count": 8,
      "outputs": [
        {
          "output_type": "stream",
          "name": "stdout",
          "text": [
            "[[2. 0. 0. 0.]\n",
            " [0. 2. 0. 0.]\n",
            " [0. 0. 2. 0.]\n",
            " [0. 0. 0. 2.]]\n"
          ]
        }
      ]
    },
    {
      "cell_type": "markdown",
      "metadata": {
        "id": "mW6x1OOUkCjU"
      },
      "source": [
        "# #Question 3"
      ]
    },
    {
      "cell_type": "markdown",
      "metadata": {
        "id": "lOb6YyI2kFyh"
      },
      "source": [
        "###Find the cross-product of matrices, A = [2,7,4] and\n",
        "\n",
        "B = [3,9,8]. Show your solutions using Python codes and do not forget to label them on the Text Cell."
      ]
    },
    {
      "cell_type": "code",
      "metadata": {
        "colab": {
          "base_uri": "https://localhost:8080/"
        },
        "id": "PCuPq8RukQmR",
        "outputId": "4ca9d3d8-40de-4212-cbcd-3430c52688aa"
      },
      "source": [
        "import numpy as np\n",
        "A = np.array([2,7,4])\n",
        "B= np.array([3,9,8])\n",
        "\n",
        "product = np.cross(A,B)\n",
        "print(product)"
      ],
      "execution_count": 5,
      "outputs": [
        {
          "output_type": "stream",
          "name": "stdout",
          "text": [
            "[20 -4 -3]\n"
          ]
        }
      ]
    }
  ]
}