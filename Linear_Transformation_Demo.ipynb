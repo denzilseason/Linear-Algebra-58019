{
  "nbformat": 4,
  "nbformat_minor": 0,
  "metadata": {
    "colab": {
      "name": "Linear Transformation Demo",
      "provenance": [],
      "authorship_tag": "ABX9TyN4JdEfR7od84+CEx2acOun",
      "include_colab_link": true
    },
    "kernelspec": {
      "name": "python3",
      "display_name": "Python 3"
    },
    "language_info": {
      "name": "python"
    }
  },
  "cells": [
    {
      "cell_type": "markdown",
      "metadata": {
        "id": "view-in-github",
        "colab_type": "text"
      },
      "source": [
        "<a href=\"https://colab.research.google.com/github/denzilseason/Linear-Algebra-58019/blob/main/Linear_Transformation_Demo.ipynb\" target=\"_parent\"><img src=\"https://colab.research.google.com/assets/colab-badge.svg\" alt=\"Open In Colab\"/></a>"
      ]
    },
    {
      "cell_type": "markdown",
      "metadata": {
        "id": "HHmTqWcVDdQD"
      },
      "source": [
        "##To find the inverse of a matrix, the matrix is passed to the linarlg.inv() of the Numpy module:"
      ]
    },
    {
      "cell_type": "code",
      "metadata": {
        "colab": {
          "base_uri": "https://localhost:8080/"
        },
        "id": "QNpVmQ8mDW29",
        "outputId": "c72b4011-177f-4331-ad19-b67d1d7ab04e"
      },
      "source": [
        "import numpy as np\n",
        "A=np.array([[4,3],[-5,9]])  #creation of matrix A\n",
        "print(A)\n",
        "inv_A=np.linalg.inv(A)\n",
        "print(inv_A)"
      ],
      "execution_count": 5,
      "outputs": [
        {
          "output_type": "stream",
          "name": "stdout",
          "text": [
            "[[ 4  3]\n",
            " [-5  9]]\n",
            "[[ 0.17647059 -0.05882353]\n",
            " [ 0.09803922  0.07843137]]\n"
          ]
        }
      ]
    },
    {
      "cell_type": "code",
      "metadata": {
        "colab": {
          "base_uri": "https://localhost:8080/"
        },
        "id": "FtSM_dehFrPL",
        "outputId": "5a40bd67-01ef-4d44-c63d-5bc4335bf931"
      },
      "source": [
        "B=np.array([[20],[26]])\n",
        "print(B)"
      ],
      "execution_count": 6,
      "outputs": [
        {
          "output_type": "stream",
          "name": "stdout",
          "text": [
            "[[20]\n",
            " [26]]\n"
          ]
        }
      ]
    },
    {
      "cell_type": "code",
      "metadata": {
        "colab": {
          "base_uri": "https://localhost:8080/"
        },
        "id": "Az3B5bocGB0L",
        "outputId": "4c3db162-564f-49e0-a679-5762c474d638"
      },
      "source": [
        "X=np.linalg.inv(A).dot(B)\n",
        "print(X)"
      ],
      "execution_count": 7,
      "outputs": [
        {
          "output_type": "stream",
          "name": "stdout",
          "text": [
            "[[2.]\n",
            " [4.]]\n"
          ]
        }
      ]
    },
    {
      "cell_type": "code",
      "metadata": {
        "colab": {
          "base_uri": "https://localhost:8080/"
        },
        "id": "MBrLRHvhGsqp",
        "outputId": "74a9fb82-bda9-4c78-e483-eca95acb49ad"
      },
      "source": [
        "X=np.dot(inv_A,B)\n",
        "print(X)"
      ],
      "execution_count": 10,
      "outputs": [
        {
          "output_type": "stream",
          "name": "stdout",
          "text": [
            "[[2.]\n",
            " [4.]]\n"
          ]
        }
      ]
    },
    {
      "cell_type": "code",
      "metadata": {
        "colab": {
          "base_uri": "https://localhost:8080/"
        },
        "id": "md0MLTGeHRXi",
        "outputId": "5c842169-787e-4f06-baab-7c74887c9551"
      },
      "source": [
        "import numpy as np\n",
        "A=np.array([[4,3,2],[-2,2,3],[3,-5,2]])  #creation of matrix A\n",
        "print(A)\n",
        "inv_A=np.linalg.inv(A)\n",
        "print(inv_A)"
      ],
      "execution_count": 11,
      "outputs": [
        {
          "output_type": "stream",
          "name": "stdout",
          "text": [
            "[[ 4  3  2]\n",
            " [-2  2  3]\n",
            " [ 3 -5  2]]\n",
            "[[ 0.15447154 -0.1300813   0.04065041]\n",
            " [ 0.10569106  0.01626016 -0.1300813 ]\n",
            " [ 0.03252033  0.23577236  0.11382114]]\n"
          ]
        }
      ]
    },
    {
      "cell_type": "code",
      "metadata": {
        "colab": {
          "base_uri": "https://localhost:8080/"
        },
        "id": "P7hucMRiILlD",
        "outputId": "1833299d-aadd-41d2-a954-36fb96bb7ec2"
      },
      "source": [
        "B=np.array([[25],[-10],[-4]])\n",
        "print(B)"
      ],
      "execution_count": 15,
      "outputs": [
        {
          "output_type": "stream",
          "name": "stdout",
          "text": [
            "[[ 25]\n",
            " [-10]\n",
            " [ -4]]\n"
          ]
        }
      ]
    },
    {
      "cell_type": "code",
      "metadata": {
        "colab": {
          "base_uri": "https://localhost:8080/"
        },
        "id": "XWJYb7d2IZlL",
        "outputId": "26aa979f-a376-45af-ba37-69bf3671e91b"
      },
      "source": [
        "X=np.dot(inv_A,B)\n",
        "print(X)"
      ],
      "execution_count": 16,
      "outputs": [
        {
          "output_type": "stream",
          "name": "stdout",
          "text": [
            "[[ 5.]\n",
            " [ 3.]\n",
            " [-2.]]\n"
          ]
        }
      ]
    }
  ]
}