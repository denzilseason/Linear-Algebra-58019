{
  "nbformat": 4,
  "nbformat_minor": 0,
  "metadata": {
    "colab": {
      "name": "Application.ipynb",
      "provenance": [],
      "authorship_tag": "ABX9TyMlXYvH92aymiJiOl0estxN",
      "include_colab_link": true
    },
    "kernelspec": {
      "name": "python3",
      "display_name": "Python 3"
    },
    "language_info": {
      "name": "python"
    }
  },
  "cells": [
    {
      "cell_type": "markdown",
      "metadata": {
        "id": "view-in-github",
        "colab_type": "text"
      },
      "source": [
        "<a href=\"https://colab.research.google.com/github/denzilseason/Linear-Algebra-58019/blob/main/Application.ipynb\" target=\"_parent\"><img src=\"https://colab.research.google.com/assets/colab-badge.svg\" alt=\"Open In Colab\"/></a>"
      ]
    },
    {
      "cell_type": "markdown",
      "metadata": {
        "id": "A3ClKxVqN3q3"
      },
      "source": [
        "#The price of one apple and orange"
      ]
    },
    {
      "cell_type": "code",
      "metadata": {
        "colab": {
          "base_uri": "https://localhost:8080/"
        },
        "id": "ecG2SLtkKguj",
        "outputId": "f1062e2a-de9f-412c-a9fe-46ef41ef4633"
      },
      "source": [
        "import numpy as np\n",
        "A = np.array([[20,10],[17,22]])\n",
        "B = np.array([[350],[500]])\n",
        "print(A)\n",
        "print(B)\n",
        "X = np.linalg.solve(A,B)\n",
        "print(X)"
      ],
      "execution_count": 17,
      "outputs": [
        {
          "output_type": "stream",
          "name": "stdout",
          "text": [
            "[[20 10]\n",
            " [17 22]]\n",
            "[[350]\n",
            " [500]]\n",
            "[[10.]\n",
            " [15.]]\n"
          ]
        }
      ]
    },
    {
      "cell_type": "code",
      "metadata": {
        "id": "NYHyqhG0N-rt",
        "outputId": "c7441d46-163c-4c49-dbec-a024b4c39b4d",
        "colab": {
          "base_uri": "https://localhost:8080/"
        }
      },
      "source": [
        "inv_A= np.linalg.inv(A)\n",
        "print(inv_A)\n",
        "X = np.linalg.inv(A).dot(B)\n",
        "print(X)"
      ],
      "execution_count": 18,
      "outputs": [
        {
          "output_type": "stream",
          "name": "stdout",
          "text": [
            "[[ 0.08148148 -0.03703704]\n",
            " [-0.06296296  0.07407407]]\n",
            "[[10.]\n",
            " [15.]]\n"
          ]
        }
      ]
    },
    {
      "cell_type": "code",
      "metadata": {
        "colab": {
          "base_uri": "https://localhost:8080/"
        },
        "id": "N9jbZF5aMFdR",
        "outputId": "514fc3e6-1132-4d67-9fae-3ee28ddda489"
      },
      "source": [
        "X = np.dot(inv_A,B)\n",
        "print(X)"
      ],
      "execution_count": 19,
      "outputs": [
        {
          "output_type": "stream",
          "name": "stdout",
          "text": [
            "[[10.]\n",
            " [15.]]\n"
          ]
        }
      ]
    },
    {
      "cell_type": "markdown",
      "metadata": {
        "id": "4OLPTnT1LSji"
      },
      "source": [
        "##Solving for three linear equations with unknown cariable of x,y, and z"
      ]
    },
    {
      "cell_type": "markdown",
      "metadata": {
        "id": "Ddo8gM_5Lexy"
      },
      "source": [
        "#4x+3y+2z=25\n",
        "#-2z+2y+3z=-10\n",
        "#3x-5y+2z=-4\n"
      ]
    },
    {
      "cell_type": "code",
      "metadata": {
        "colab": {
          "base_uri": "https://localhost:8080/"
        },
        "id": "wMVWDQNzMpqC",
        "outputId": "5ddd5d98-bbfc-4e85-b180-bf7e573c224c"
      },
      "source": [
        "import numpy as np\n",
        "from scipy.linalg import solve\n",
        "A=np.array([[4,3,2],[-2,2,3],[3,-5,2]])\n",
        "print(A)\n",
        "B=np.array([[25],[-10],[-4]])\n",
        "print(B)\n",
        "X=solve(A,B)\n",
        "print(X)"
      ],
      "execution_count": 21,
      "outputs": [
        {
          "output_type": "stream",
          "name": "stdout",
          "text": [
            "[[ 4  3  2]\n",
            " [-2  2  3]\n",
            " [ 3 -5  2]]\n",
            "[[ 25]\n",
            " [-10]\n",
            " [ -4]]\n",
            "[[ 5.]\n",
            " [ 3.]\n",
            " [-2.]]\n"
          ]
        }
      ]
    }
  ]
}