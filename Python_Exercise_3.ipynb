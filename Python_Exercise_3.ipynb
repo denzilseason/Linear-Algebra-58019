{
  "nbformat": 4,
  "nbformat_minor": 0,
  "metadata": {
    "colab": {
      "name": "Python Exercise 3.ipynb",
      "provenance": [],
      "authorship_tag": "ABX9TyPpcfMd/s8TxO8ooQQK6WPA",
      "include_colab_link": true
    },
    "kernelspec": {
      "name": "python3",
      "display_name": "Python 3"
    },
    "language_info": {
      "name": "python"
    }
  },
  "cells": [
    {
      "cell_type": "markdown",
      "metadata": {
        "id": "view-in-github",
        "colab_type": "text"
      },
      "source": [
        "<a href=\"https://colab.research.google.com/github/denzilseason/Linear-Algebra-58019/blob/main/Python_Exercise_3.ipynb\" target=\"_parent\"><img src=\"https://colab.research.google.com/assets/colab-badge.svg\" alt=\"Open In Colab\"/></a>"
      ]
    },
    {
      "cell_type": "code",
      "metadata": {
        "colab": {
          "base_uri": "https://localhost:8080/"
        },
        "id": "O87mqgAJ8tSY",
        "outputId": "93e20524-6b31-4b76-9e6a-e1843fa7674a"
      },
      "source": [
        "##Python Program to inverse a 4x4 matrix A = ([6,1,1,3],[4,-2,5,1],[2,8,7,6],[3,1,9,7])\n",
        "import numpy as np\n",
        "A=np.array([[1,2],[4,7]])\n",
        "print(A)\n",
        "invA=(np.linalg.inv(A))\n",
        "print(invA)\n",
        "\n",
        "##Python Program to transpose a 4x4 matrix A = ([6,1,1,3],[4,-2,5,1],[2,8,7,6],[3,1,9,7])\n",
        "B=np.transpose(A)\n",
        "print(B)\n",
        "\n",
        "##Program code product of A and InvA\n",
        "prod=np.dot(A,invA)\n",
        "print(prod)"
      ],
      "execution_count": 2,
      "outputs": [
        {
          "output_type": "stream",
          "name": "stdout",
          "text": [
            "[[1 2]\n",
            " [4 7]]\n",
            "[[-7.  2.]\n",
            " [ 4. -1.]]\n",
            "[[1 4]\n",
            " [2 7]]\n",
            "[[1. 0.]\n",
            " [0. 1.]]\n"
          ]
        }
      ]
    }
  ]
}